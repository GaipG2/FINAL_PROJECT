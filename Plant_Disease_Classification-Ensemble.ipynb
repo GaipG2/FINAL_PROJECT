{
 "cells": [
  {
   "cell_type": "code",
   "execution_count": 84,
   "metadata": {},
   "outputs": [],
   "source": [
    "from tensorflow.keras.models import load_model\n",
    "m1 = load_model(\"MobileNetV2.h5\")\n",
    "m2 = load_model(\"Inception.h5\")\n",
    "m3 = load_model(\"ResNet.h5\")\n",
    "m4 = load_model(\"VGG.h5\")"
   ]
  },
  {
   "cell_type": "code",
   "execution_count": 36,
   "metadata": {},
   "outputs": [],
   "source": [
    "from imutils import paths\n",
    "import os\n",
    "from tensorflow.keras.preprocessing.image import img_to_array\n",
    "from tensorflow.keras.preprocessing.image import load_img\n",
    "from tensorflow.keras.applications.resnet50 import preprocess_input"
   ]
  },
  {
   "cell_type": "code",
   "execution_count": 37,
   "metadata": {},
   "outputs": [],
   "source": [
    "from numpy import argmax\n",
    "from sklearn.preprocessing import LabelEncoder\n",
    "from sklearn.preprocessing import OneHotEncoder"
   ]
  },
  {
   "cell_type": "code",
   "execution_count": 38,
   "metadata": {},
   "outputs": [],
   "source": [
    "dataset=\"C:/Users/99sam/Desktop/GAIP/Project/Plant Disease Classification/Test/Test\"\n",
    "imagePaths=list(paths.list_images(dataset))\n",
    "\n",
    "\n",
    "data=[]\n",
    "data1=[]\n",
    "data2=[]\n",
    "labels=[]\n",
    "\n",
    "for i in imagePaths:\n",
    "    label=i.split(os.path.sep)[-2]\n",
    "    labels.append(label)\n",
    "    image=load_img(i,target_size=(224,224))\n",
    "    image=img_to_array(image)\n",
    "    data1.append(preprocess_input(image))\n",
    "    image=image/255.0\n",
    "    data.append(image)"
   ]
  },
  {
   "cell_type": "code",
   "execution_count": 39,
   "metadata": {},
   "outputs": [],
   "source": [
    "from tensorflow.keras.applications.vgg16 import preprocess_input"
   ]
  },
  {
   "cell_type": "code",
   "execution_count": 40,
   "metadata": {},
   "outputs": [],
   "source": [
    "for i in imagePaths:\n",
    "    image=load_img(i,target_size=(224,224))\n",
    "    image=img_to_array(image)\n",
    "    data2.append(preprocess_input(image))"
   ]
  },
  {
   "cell_type": "code",
   "execution_count": 41,
   "metadata": {},
   "outputs": [
    {
     "data": {
      "text/plain": [
       "array(['Healthy', 'Healthy', 'Healthy', 'Healthy', 'Healthy', 'Healthy',\n",
       "       'Healthy', 'Healthy', 'Healthy', 'Healthy', 'Healthy', 'Healthy',\n",
       "       'Healthy', 'Healthy', 'Healthy', 'Healthy', 'Healthy', 'Healthy',\n",
       "       'Healthy', 'Healthy', 'Healthy', 'Healthy', 'Healthy', 'Healthy',\n",
       "       'Healthy', 'Healthy', 'Healthy', 'Healthy', 'Healthy', 'Healthy',\n",
       "       'Healthy', 'Healthy', 'Healthy', 'Healthy', 'Healthy', 'Healthy',\n",
       "       'Healthy', 'Healthy', 'Healthy', 'Healthy', 'Healthy', 'Healthy',\n",
       "       'Healthy', 'Healthy', 'Healthy', 'Healthy', 'Healthy', 'Healthy',\n",
       "       'Healthy', 'Healthy', 'Powdery', 'Powdery', 'Powdery', 'Powdery',\n",
       "       'Powdery', 'Powdery', 'Powdery', 'Powdery', 'Powdery', 'Powdery',\n",
       "       'Powdery', 'Powdery', 'Powdery', 'Powdery', 'Powdery', 'Powdery',\n",
       "       'Powdery', 'Powdery', 'Powdery', 'Powdery', 'Powdery', 'Powdery',\n",
       "       'Powdery', 'Powdery', 'Powdery', 'Powdery', 'Powdery', 'Powdery',\n",
       "       'Powdery', 'Powdery', 'Powdery', 'Powdery', 'Powdery', 'Powdery',\n",
       "       'Powdery', 'Powdery', 'Powdery', 'Powdery', 'Powdery', 'Powdery',\n",
       "       'Powdery', 'Powdery', 'Powdery', 'Powdery', 'Powdery', 'Powdery',\n",
       "       'Powdery', 'Powdery', 'Powdery', 'Powdery', 'Rust', 'Rust', 'Rust',\n",
       "       'Rust', 'Rust', 'Rust', 'Rust', 'Rust', 'Rust', 'Rust', 'Rust',\n",
       "       'Rust', 'Rust', 'Rust', 'Rust', 'Rust', 'Rust', 'Rust', 'Rust',\n",
       "       'Rust', 'Rust', 'Rust', 'Rust', 'Rust', 'Rust', 'Rust', 'Rust',\n",
       "       'Rust', 'Rust', 'Rust', 'Rust', 'Rust', 'Rust', 'Rust', 'Rust',\n",
       "       'Rust', 'Rust', 'Rust', 'Rust', 'Rust', 'Rust', 'Rust', 'Rust',\n",
       "       'Rust', 'Rust', 'Rust', 'Rust', 'Rust', 'Rust', 'Rust'],\n",
       "      dtype='<U7')"
      ]
     },
     "execution_count": 41,
     "metadata": {},
     "output_type": "execute_result"
    }
   ],
   "source": [
    "import numpy as np\n",
    "data=np.array(data,dtype='float32')\n",
    "data1=np.array(data1,dtype='float32')\n",
    "data2=np.array(data2,dtype='float32')\n",
    "labels=np.array(labels)\n",
    "labels"
   ]
  },
  {
   "cell_type": "code",
   "execution_count": 42,
   "metadata": {},
   "outputs": [
    {
     "name": "stdout",
     "output_type": "stream",
     "text": [
      "['Healthy', 'Healthy', 'Healthy', 'Healthy', 'Healthy', 'Healthy', 'Healthy', 'Healthy', 'Healthy', 'Healthy', 'Healthy', 'Healthy', 'Healthy', 'Healthy', 'Healthy', 'Healthy', 'Healthy', 'Healthy', 'Healthy', 'Healthy', 'Healthy', 'Healthy', 'Healthy', 'Healthy', 'Healthy', 'Healthy', 'Healthy', 'Healthy', 'Healthy', 'Healthy', 'Healthy', 'Healthy', 'Healthy', 'Healthy', 'Healthy', 'Healthy', 'Healthy', 'Healthy', 'Healthy', 'Healthy', 'Healthy', 'Healthy', 'Healthy', 'Healthy', 'Healthy', 'Healthy', 'Healthy', 'Healthy', 'Healthy', 'Healthy', 'Powdery', 'Powdery', 'Powdery', 'Powdery', 'Powdery', 'Powdery', 'Powdery', 'Powdery', 'Powdery', 'Powdery', 'Powdery', 'Powdery', 'Powdery', 'Powdery', 'Powdery', 'Powdery', 'Powdery', 'Powdery', 'Powdery', 'Powdery', 'Powdery', 'Powdery', 'Powdery', 'Powdery', 'Powdery', 'Powdery', 'Powdery', 'Powdery', 'Powdery', 'Powdery', 'Powdery', 'Powdery', 'Powdery', 'Powdery', 'Powdery', 'Powdery', 'Powdery', 'Powdery', 'Powdery', 'Powdery', 'Powdery', 'Powdery', 'Powdery', 'Powdery', 'Powdery', 'Powdery', 'Powdery', 'Powdery', 'Powdery', 'Powdery', 'Rust', 'Rust', 'Rust', 'Rust', 'Rust', 'Rust', 'Rust', 'Rust', 'Rust', 'Rust', 'Rust', 'Rust', 'Rust', 'Rust', 'Rust', 'Rust', 'Rust', 'Rust', 'Rust', 'Rust', 'Rust', 'Rust', 'Rust', 'Rust', 'Rust', 'Rust', 'Rust', 'Rust', 'Rust', 'Rust', 'Rust', 'Rust', 'Rust', 'Rust', 'Rust', 'Rust', 'Rust', 'Rust', 'Rust', 'Rust', 'Rust', 'Rust', 'Rust', 'Rust', 'Rust', 'Rust', 'Rust', 'Rust', 'Rust', 'Rust']\n",
      "[0 0 0 0 0 0 0 0 0 0 0 0 0 0 0 0 0 0 0 0 0 0 0 0 0 0 0 0 0 0 0 0 0 0 0 0 0\n",
      " 0 0 0 0 0 0 0 0 0 0 0 0 0 1 1 1 1 1 1 1 1 1 1 1 1 1 1 1 1 1 1 1 1 1 1 1 1\n",
      " 1 1 1 1 1 1 1 1 1 1 1 1 1 1 1 1 1 1 1 1 1 1 1 1 1 1 2 2 2 2 2 2 2 2 2 2 2\n",
      " 2 2 2 2 2 2 2 2 2 2 2 2 2 2 2 2 2 2 2 2 2 2 2 2 2 2 2 2 2 2 2 2 2 2 2 2 2\n",
      " 2 2]\n",
      "[[1. 0. 0.]\n",
      " [1. 0. 0.]\n",
      " [1. 0. 0.]\n",
      " [1. 0. 0.]\n",
      " [1. 0. 0.]\n",
      " [1. 0. 0.]\n",
      " [1. 0. 0.]\n",
      " [1. 0. 0.]\n",
      " [1. 0. 0.]\n",
      " [1. 0. 0.]\n",
      " [1. 0. 0.]\n",
      " [1. 0. 0.]\n",
      " [1. 0. 0.]\n",
      " [1. 0. 0.]\n",
      " [1. 0. 0.]\n",
      " [1. 0. 0.]\n",
      " [1. 0. 0.]\n",
      " [1. 0. 0.]\n",
      " [1. 0. 0.]\n",
      " [1. 0. 0.]\n",
      " [1. 0. 0.]\n",
      " [1. 0. 0.]\n",
      " [1. 0. 0.]\n",
      " [1. 0. 0.]\n",
      " [1. 0. 0.]\n",
      " [1. 0. 0.]\n",
      " [1. 0. 0.]\n",
      " [1. 0. 0.]\n",
      " [1. 0. 0.]\n",
      " [1. 0. 0.]\n",
      " [1. 0. 0.]\n",
      " [1. 0. 0.]\n",
      " [1. 0. 0.]\n",
      " [1. 0. 0.]\n",
      " [1. 0. 0.]\n",
      " [1. 0. 0.]\n",
      " [1. 0. 0.]\n",
      " [1. 0. 0.]\n",
      " [1. 0. 0.]\n",
      " [1. 0. 0.]\n",
      " [1. 0. 0.]\n",
      " [1. 0. 0.]\n",
      " [1. 0. 0.]\n",
      " [1. 0. 0.]\n",
      " [1. 0. 0.]\n",
      " [1. 0. 0.]\n",
      " [1. 0. 0.]\n",
      " [1. 0. 0.]\n",
      " [1. 0. 0.]\n",
      " [1. 0. 0.]\n",
      " [0. 1. 0.]\n",
      " [0. 1. 0.]\n",
      " [0. 1. 0.]\n",
      " [0. 1. 0.]\n",
      " [0. 1. 0.]\n",
      " [0. 1. 0.]\n",
      " [0. 1. 0.]\n",
      " [0. 1. 0.]\n",
      " [0. 1. 0.]\n",
      " [0. 1. 0.]\n",
      " [0. 1. 0.]\n",
      " [0. 1. 0.]\n",
      " [0. 1. 0.]\n",
      " [0. 1. 0.]\n",
      " [0. 1. 0.]\n",
      " [0. 1. 0.]\n",
      " [0. 1. 0.]\n",
      " [0. 1. 0.]\n",
      " [0. 1. 0.]\n",
      " [0. 1. 0.]\n",
      " [0. 1. 0.]\n",
      " [0. 1. 0.]\n",
      " [0. 1. 0.]\n",
      " [0. 1. 0.]\n",
      " [0. 1. 0.]\n",
      " [0. 1. 0.]\n",
      " [0. 1. 0.]\n",
      " [0. 1. 0.]\n",
      " [0. 1. 0.]\n",
      " [0. 1. 0.]\n",
      " [0. 1. 0.]\n",
      " [0. 1. 0.]\n",
      " [0. 1. 0.]\n",
      " [0. 1. 0.]\n",
      " [0. 1. 0.]\n",
      " [0. 1. 0.]\n",
      " [0. 1. 0.]\n",
      " [0. 1. 0.]\n",
      " [0. 1. 0.]\n",
      " [0. 1. 0.]\n",
      " [0. 1. 0.]\n",
      " [0. 1. 0.]\n",
      " [0. 1. 0.]\n",
      " [0. 1. 0.]\n",
      " [0. 1. 0.]\n",
      " [0. 1. 0.]\n",
      " [0. 1. 0.]\n",
      " [0. 1. 0.]\n",
      " [0. 1. 0.]\n",
      " [0. 1. 0.]\n",
      " [0. 0. 1.]\n",
      " [0. 0. 1.]\n",
      " [0. 0. 1.]\n",
      " [0. 0. 1.]\n",
      " [0. 0. 1.]\n",
      " [0. 0. 1.]\n",
      " [0. 0. 1.]\n",
      " [0. 0. 1.]\n",
      " [0. 0. 1.]\n",
      " [0. 0. 1.]\n",
      " [0. 0. 1.]\n",
      " [0. 0. 1.]\n",
      " [0. 0. 1.]\n",
      " [0. 0. 1.]\n",
      " [0. 0. 1.]\n",
      " [0. 0. 1.]\n",
      " [0. 0. 1.]\n",
      " [0. 0. 1.]\n",
      " [0. 0. 1.]\n",
      " [0. 0. 1.]\n",
      " [0. 0. 1.]\n",
      " [0. 0. 1.]\n",
      " [0. 0. 1.]\n",
      " [0. 0. 1.]\n",
      " [0. 0. 1.]\n",
      " [0. 0. 1.]\n",
      " [0. 0. 1.]\n",
      " [0. 0. 1.]\n",
      " [0. 0. 1.]\n",
      " [0. 0. 1.]\n",
      " [0. 0. 1.]\n",
      " [0. 0. 1.]\n",
      " [0. 0. 1.]\n",
      " [0. 0. 1.]\n",
      " [0. 0. 1.]\n",
      " [0. 0. 1.]\n",
      " [0. 0. 1.]\n",
      " [0. 0. 1.]\n",
      " [0. 0. 1.]\n",
      " [0. 0. 1.]\n",
      " [0. 0. 1.]\n",
      " [0. 0. 1.]\n",
      " [0. 0. 1.]\n",
      " [0. 0. 1.]\n",
      " [0. 0. 1.]\n",
      " [0. 0. 1.]\n",
      " [0. 0. 1.]\n",
      " [0. 0. 1.]\n",
      " [0. 0. 1.]\n",
      " [0. 0. 1.]]\n",
      "['Healthy']\n"
     ]
    }
   ],
   "source": [
    "values = list(labels)\n",
    "print(values)\n",
    "# integer encode\n",
    "label_encoder = LabelEncoder()\n",
    "integer_encoded = label_encoder.fit_transform(values)\n",
    "print(integer_encoded)\n",
    "# binary encode\n",
    "onehot_encoder = OneHotEncoder(sparse=False)\n",
    "integer_encoded = integer_encoded.reshape(len(integer_encoded), 1)\n",
    "onehot_encoded = onehot_encoder.fit_transform(integer_encoded)\n",
    "print(onehot_encoded)\n",
    "# invert first example\n",
    "inverted = label_encoder.inverse_transform([argmax(onehot_encoded[0, :])])\n",
    "print(inverted)\n",
    "target = np.array(onehot_encoded)"
   ]
  },
  {
   "cell_type": "code",
   "execution_count": 82,
   "metadata": {},
   "outputs": [],
   "source": [
    "def imp_stack(data,data1,data2):\n",
    "    p1=m1.predict(data)\n",
    "    p1=np.array(p1)\n",
    "    p2=m2.predict(data)\n",
    "    p2=np.array(p2)\n",
    "    p3=m3.predict(data1)\n",
    "    p3=np.array(p3)\n",
    "    p4=m4.predict(data2)\n",
    "    p4=np.array(p4)\n",
    "    p_ans=(p1)+p2+p3+(p4)\n",
    "    p_ans=np.argmax(p_ans,axis=1)\n",
    "    return p_ans"
   ]
  },
  {
   "cell_type": "code",
   "execution_count": 44,
   "metadata": {},
   "outputs": [
    {
     "name": "stdout",
     "output_type": "stream",
     "text": [
      "5/5 [==============================] - 2s 240ms/step\n",
      "5/5 [==============================] - 3s 386ms/step\n",
      "5/5 [==============================] - 4s 740ms/step\n",
      "5/5 [==============================] - 7s 1s/step\n"
     ]
    }
   ],
   "source": [
    "pred = imp_stack(data,data1,data2)"
   ]
  },
  {
   "cell_type": "code",
   "execution_count": 45,
   "metadata": {},
   "outputs": [
    {
     "name": "stdout",
     "output_type": "stream",
     "text": [
      "              precision    recall  f1-score   support\n",
      "\n",
      "           0       0.96      0.98      0.97        50\n",
      "           1       0.98      0.96      0.97        50\n",
      "           2       1.00      1.00      1.00        50\n",
      "\n",
      "    accuracy                           0.98       150\n",
      "   macro avg       0.98      0.98      0.98       150\n",
      "weighted avg       0.98      0.98      0.98       150\n",
      "\n"
     ]
    }
   ],
   "source": [
    "from sklearn.metrics import classification_report\n",
    "print(classification_report(target.argmax(axis=1),pred))"
   ]
  },
  {
   "cell_type": "code",
   "execution_count": 46,
   "metadata": {},
   "outputs": [
    {
     "name": "stdout",
     "output_type": "stream",
     "text": [
      "5/5 [==============================] - 8s 2s/step\n"
     ]
    },
    {
     "data": {
      "text/plain": [
       "array([0, 0, 2, 0, 2, 0, 0, 0, 0, 0, 0, 0, 0, 0, 0, 0, 0, 0, 0, 0, 0, 2,\n",
       "       0, 1, 2, 0, 0, 0, 0, 0, 0, 0, 0, 0, 2, 2, 0, 0, 0, 0, 0, 0, 0, 0,\n",
       "       0, 0, 0, 0, 0, 2, 1, 1, 1, 1, 1, 2, 1, 1, 1, 1, 1, 2, 1, 1, 1, 1,\n",
       "       1, 1, 1, 1, 1, 1, 1, 1, 1, 1, 1, 1, 1, 1, 1, 1, 1, 1, 1, 1, 1, 1,\n",
       "       2, 1, 1, 1, 1, 1, 1, 1, 1, 1, 1, 0, 2, 2, 2, 2, 2, 2, 2, 2, 2, 2,\n",
       "       2, 2, 2, 2, 2, 2, 2, 2, 2, 2, 2, 2, 2, 2, 2, 2, 2, 2, 2, 2, 2, 2,\n",
       "       2, 2, 2, 2, 2, 2, 2, 2, 2, 2, 2, 2, 2, 2, 2, 2, 2, 2], dtype=int64)"
      ]
     },
     "execution_count": 46,
     "metadata": {},
     "output_type": "execute_result"
    }
   ],
   "source": [
    "p4=m4.predict(data2)\n",
    "p4=np.argmax(p4,axis=1)\n",
    "p4"
   ]
  },
  {
   "cell_type": "code",
   "execution_count": 47,
   "metadata": {},
   "outputs": [
    {
     "name": "stdout",
     "output_type": "stream",
     "text": [
      "5/5 [==============================] - 5s 938ms/step\n"
     ]
    },
    {
     "data": {
      "text/plain": [
       "array([0, 0, 0, 0, 0, 0, 0, 0, 0, 0, 0, 0, 0, 0, 0, 0, 0, 0, 0, 0, 0, 2,\n",
       "       2, 1, 0, 0, 0, 0, 0, 0, 0, 0, 0, 0, 0, 0, 0, 0, 0, 0, 0, 0, 0, 0,\n",
       "       0, 0, 0, 0, 0, 0, 1, 0, 1, 1, 1, 0, 1, 1, 1, 1, 1, 0, 1, 1, 1, 1,\n",
       "       1, 1, 1, 1, 1, 1, 1, 1, 1, 1, 1, 1, 1, 1, 1, 1, 1, 1, 1, 1, 1, 1,\n",
       "       1, 1, 1, 1, 1, 1, 1, 1, 1, 1, 1, 0, 2, 2, 2, 2, 2, 2, 2, 2, 2, 2,\n",
       "       2, 2, 2, 2, 2, 2, 2, 2, 2, 2, 2, 2, 2, 2, 2, 2, 2, 2, 2, 2, 2, 2,\n",
       "       2, 2, 2, 2, 2, 2, 2, 2, 2, 2, 2, 2, 2, 2, 2, 2, 2, 2], dtype=int64)"
      ]
     },
     "execution_count": 47,
     "metadata": {},
     "output_type": "execute_result"
    }
   ],
   "source": [
    "p3=m3.predict(data1)\n",
    "p3=np.argmax(p3,axis=1)\n",
    "p3"
   ]
  },
  {
   "cell_type": "code",
   "execution_count": 48,
   "metadata": {},
   "outputs": [
    {
     "name": "stdout",
     "output_type": "stream",
     "text": [
      "              precision    recall  f1-score   support\n",
      "\n",
      "           0       0.98      0.84      0.90        50\n",
      "           1       0.98      0.92      0.95        50\n",
      "           2       0.83      1.00      0.91        50\n",
      "\n",
      "    accuracy                           0.92       150\n",
      "   macro avg       0.93      0.92      0.92       150\n",
      "weighted avg       0.93      0.92      0.92       150\n",
      "\n"
     ]
    }
   ],
   "source": [
    "print(classification_report(target.argmax(axis=1),p4))"
   ]
  },
  {
   "cell_type": "code",
   "execution_count": 49,
   "metadata": {},
   "outputs": [
    {
     "name": "stdout",
     "output_type": "stream",
     "text": [
      "              precision    recall  f1-score   support\n",
      "\n",
      "           0       0.92      0.94      0.93        50\n",
      "           1       0.98      0.92      0.95        50\n",
      "           2       0.96      1.00      0.98        50\n",
      "\n",
      "    accuracy                           0.95       150\n",
      "   macro avg       0.95      0.95      0.95       150\n",
      "weighted avg       0.95      0.95      0.95       150\n",
      "\n"
     ]
    }
   ],
   "source": [
    "print(classification_report(target.argmax(axis=1),p3))"
   ]
  },
  {
   "cell_type": "code",
   "execution_count": 50,
   "metadata": {},
   "outputs": [
    {
     "name": "stdout",
     "output_type": "stream",
     "text": [
      "5/5 [==============================] - 3s 509ms/step\n"
     ]
    },
    {
     "data": {
      "text/plain": [
       "array([0, 0, 0, 0, 0, 0, 0, 0, 0, 0, 0, 0, 0, 0, 0, 0, 1, 0, 0, 0, 0, 0,\n",
       "       0, 0, 0, 0, 0, 0, 0, 0, 0, 0, 1, 0, 0, 0, 0, 0, 0, 0, 0, 0, 0, 0,\n",
       "       0, 1, 0, 0, 0, 2, 1, 1, 1, 1, 1, 0, 1, 1, 1, 1, 1, 0, 1, 1, 1, 1,\n",
       "       1, 1, 1, 1, 1, 1, 1, 1, 1, 1, 1, 1, 1, 1, 1, 1, 1, 1, 1, 1, 1, 1,\n",
       "       1, 1, 1, 1, 1, 1, 1, 1, 1, 1, 1, 0, 2, 2, 2, 2, 2, 2, 2, 2, 2, 2,\n",
       "       2, 2, 2, 2, 2, 2, 2, 2, 2, 2, 2, 2, 2, 2, 2, 2, 2, 2, 1, 2, 2, 2,\n",
       "       2, 2, 2, 2, 2, 2, 2, 2, 2, 2, 2, 2, 2, 2, 2, 2, 2, 2], dtype=int64)"
      ]
     },
     "execution_count": 50,
     "metadata": {},
     "output_type": "execute_result"
    }
   ],
   "source": [
    "p2=m2.predict(data)\n",
    "p2=np.argmax(p2,axis=1)\n",
    "p2"
   ]
  },
  {
   "cell_type": "code",
   "execution_count": 51,
   "metadata": {},
   "outputs": [
    {
     "name": "stdout",
     "output_type": "stream",
     "text": [
      "              precision    recall  f1-score   support\n",
      "\n",
      "           0       0.94      0.92      0.93        50\n",
      "           1       0.92      0.94      0.93        50\n",
      "           2       0.98      0.98      0.98        50\n",
      "\n",
      "    accuracy                           0.95       150\n",
      "   macro avg       0.95      0.95      0.95       150\n",
      "weighted avg       0.95      0.95      0.95       150\n",
      "\n"
     ]
    }
   ],
   "source": [
    "print(classification_report(target.argmax(axis=1),p2))"
   ]
  },
  {
   "cell_type": "code",
   "execution_count": 52,
   "metadata": {},
   "outputs": [
    {
     "name": "stdout",
     "output_type": "stream",
     "text": [
      "5/5 [==============================] - 2s 292ms/step\n"
     ]
    },
    {
     "data": {
      "text/plain": [
       "array([0, 0, 0, 0, 0, 0, 0, 0, 0, 0, 0, 0, 0, 0, 0, 0, 1, 0, 0, 0, 0, 0,\n",
       "       0, 0, 0, 0, 0, 0, 0, 0, 0, 0, 0, 0, 0, 0, 0, 0, 0, 0, 0, 0, 0, 0,\n",
       "       0, 0, 0, 0, 0, 0, 1, 1, 1, 1, 1, 0, 1, 1, 1, 1, 1, 1, 1, 1, 1, 1,\n",
       "       1, 1, 1, 1, 1, 1, 1, 1, 1, 1, 1, 1, 1, 1, 1, 1, 1, 1, 1, 1, 1, 1,\n",
       "       1, 1, 1, 1, 1, 1, 1, 1, 1, 1, 1, 0, 2, 2, 2, 2, 2, 2, 2, 2, 2, 2,\n",
       "       2, 2, 2, 0, 2, 2, 2, 2, 2, 2, 2, 1, 2, 2, 2, 2, 2, 2, 1, 2, 2, 2,\n",
       "       2, 2, 2, 2, 2, 0, 2, 0, 2, 2, 2, 2, 2, 2, 2, 2, 0, 2], dtype=int64)"
      ]
     },
     "execution_count": 52,
     "metadata": {},
     "output_type": "execute_result"
    }
   ],
   "source": [
    "p1=m1.predict(data)\n",
    "p1=np.argmax(p1,axis=1)\n",
    "p1"
   ]
  },
  {
   "cell_type": "code",
   "execution_count": 53,
   "metadata": {},
   "outputs": [
    {
     "name": "stdout",
     "output_type": "stream",
     "text": [
      "              precision    recall  f1-score   support\n",
      "\n",
      "           0       0.89      0.98      0.93        50\n",
      "           1       0.94      0.96      0.95        50\n",
      "           2       1.00      0.88      0.94        50\n",
      "\n",
      "    accuracy                           0.94       150\n",
      "   macro avg       0.94      0.94      0.94       150\n",
      "weighted avg       0.94      0.94      0.94       150\n",
      "\n"
     ]
    }
   ],
   "source": [
    "print(classification_report(target.argmax(axis=1),p1))"
   ]
  },
  {
   "cell_type": "code",
   "execution_count": 85,
   "metadata": {},
   "outputs": [],
   "source": [
    "import tensorflow as tf\n",
    "from tensorflow.keras.applications.resnet50 import preprocess_input\n",
    "dataset=\"C:/Users/99sam/Desktop/Live\"\n",
    "imagePaths=list(paths.list_images(dataset))\n",
    "\n",
    "\n",
    "data=[]\n",
    "data1=[]\n",
    "data2=[]\n",
    "labels=[]\n",
    "\n",
    "for i in imagePaths:\n",
    "    label=i.split(os.path.sep)[-1]\n",
    "    labels.append(label)\n",
    "    image=load_img(i,target_size=(224,224))\n",
    "    image=img_to_array(image)\n",
    "    data1.append(preprocess_input(image))\n",
    "    image=image/255.0\n",
    "    data.append(image)"
   ]
  },
  {
   "cell_type": "code",
   "execution_count": 86,
   "metadata": {},
   "outputs": [],
   "source": [
    "from tensorflow.keras.applications.vgg16 import preprocess_input\n",
    "for i in imagePaths:\n",
    "    image=load_img(i,target_size=(224,224))\n",
    "    image=img_to_array(image)\n",
    "    data2.append(preprocess_input(image))"
   ]
  },
  {
   "cell_type": "code",
   "execution_count": 87,
   "metadata": {},
   "outputs": [
    {
     "data": {
      "text/plain": [
       "array(['Healthy_Leaf.jpg', 'Powdery_Leaf.jpg', 'Rust_Leaf.jpeg'],\n",
       "      dtype='<U16')"
      ]
     },
     "execution_count": 87,
     "metadata": {},
     "output_type": "execute_result"
    }
   ],
   "source": [
    "import numpy as np\n",
    "data=np.array(data,dtype='float32')\n",
    "data1=np.array(data1,dtype='float32')\n",
    "data2=np.array(data2,dtype='float32')\n",
    "labels=np.array(labels)\n",
    "labels"
   ]
  },
  {
   "cell_type": "code",
   "execution_count": 88,
   "metadata": {},
   "outputs": [
    {
     "name": "stdout",
     "output_type": "stream",
     "text": [
      "['Healthy_Leaf.jpg', 'Powdery_Leaf.jpg', 'Rust_Leaf.jpeg']\n",
      "[0 1 2]\n",
      "[[1. 0. 0.]\n",
      " [0. 1. 0.]\n",
      " [0. 0. 1.]]\n",
      "['Healthy_Leaf.jpg']\n"
     ]
    }
   ],
   "source": [
    "values = list(labels)\n",
    "print(values)\n",
    "# integer encode\n",
    "label_encoder = LabelEncoder()\n",
    "integer_encoded = label_encoder.fit_transform(values)\n",
    "print(integer_encoded)\n",
    "# binary encode\n",
    "onehot_encoder = OneHotEncoder(sparse=False)\n",
    "integer_encoded = integer_encoded.reshape(len(integer_encoded), 1)\n",
    "onehot_encoded = onehot_encoder.fit_transform(integer_encoded)\n",
    "print(onehot_encoded)\n",
    "# invert first example\n",
    "inverted = label_encoder.inverse_transform([argmax(onehot_encoded[0, :])])\n",
    "print(inverted)\n",
    "target = np.array(onehot_encoded)"
   ]
  },
  {
   "cell_type": "code",
   "execution_count": 89,
   "metadata": {},
   "outputs": [
    {
     "name": "stdout",
     "output_type": "stream",
     "text": [
      "WARNING:tensorflow:6 out of the last 46 calls to <function Model.make_predict_function.<locals>.predict_function at 0x00000229058FDB80> triggered tf.function retracing. Tracing is expensive and the excessive number of tracings could be due to (1) creating @tf.function repeatedly in a loop, (2) passing tensors with different shapes, (3) passing Python objects instead of tensors. For (1), please define your @tf.function outside of the loop. For (2), @tf.function has reduce_retracing=True option that can avoid unnecessary retracing. For (3), please refer to https://www.tensorflow.org/guide/function#controlling_retracing and https://www.tensorflow.org/api_docs/python/tf/function for  more details.\n",
      "1/1 [==============================] - 2s 2s/step\n",
      "1/1 [==============================] - 4s 4s/step\n",
      "1/1 [==============================] - 3s 3s/step\n",
      "1/1 [==============================] - 1s 960ms/step\n"
     ]
    },
    {
     "data": {
      "text/plain": [
       "array([0, 1, 2], dtype=int64)"
      ]
     },
     "execution_count": 89,
     "metadata": {},
     "output_type": "execute_result"
    }
   ],
   "source": [
    "pred = imp_stack(data,data1,data2)\n",
    "pred"
   ]
  },
  {
   "cell_type": "code",
   "execution_count": 70,
   "metadata": {},
   "outputs": [
    {
     "data": {
      "text/plain": [
       "array([[[[-0.44972548, -0.37952548, -0.39191765],\n",
       "         [-0.45364705, -0.38344705, -0.38799608],\n",
       "         [-0.46149018, -0.3912902 , -0.3958392 ],\n",
       "         ...,\n",
       "         [-0.4732549 , -0.4265843 , -0.39976078],\n",
       "         [-0.4732549 , -0.4265843 , -0.39976078],\n",
       "         [-0.46541175, -0.43050587, -0.39976078]],\n",
       "\n",
       "        [[-0.4458039 , -0.3756039 , -0.38799608],\n",
       "         [-0.45364705, -0.38344705, -0.38799608],\n",
       "         [-0.45756862, -0.38736862, -0.39191765],\n",
       "         ...,\n",
       "         [-0.46933332, -0.42266273, -0.3958392 ],\n",
       "         [-0.46933332, -0.42266273, -0.3958392 ],\n",
       "         [-0.46149018, -0.4265843 , -0.3958392 ]],\n",
       "\n",
       "        [[-0.44972548, -0.37952548, -0.3840745 ],\n",
       "         [-0.46149018, -0.3912902 , -0.3958392 ],\n",
       "         [-0.46149018, -0.3912902 , -0.3958392 ],\n",
       "         ...,\n",
       "         [-0.46149018, -0.4265843 , -0.3958392 ],\n",
       "         [-0.46541175, -0.41874117, -0.39191765],\n",
       "         [-0.46541175, -0.41874117, -0.39191765]],\n",
       "\n",
       "        ...,\n",
       "\n",
       "        [[ 0.1777255 ,  0.26753333,  0.26690587],\n",
       "         [ 0.09929412,  0.23616078,  0.19631763],\n",
       "         [-0.2850196 , -0.14423136, -0.2115255 ],\n",
       "         ...,\n",
       "         [-0.4458039 , -0.3912902 , -0.36838824],\n",
       "         [-0.44188234, -0.38736862, -0.36446667],\n",
       "         [-0.4340392 , -0.37952548, -0.35662353]],\n",
       "\n",
       "        [[ 0.13458823,  0.21263137,  0.22376862],\n",
       "         [ 0.09145098,  0.21655294,  0.18455292],\n",
       "         [-0.4105098 , -0.28148627, -0.34485883],\n",
       "         ...,\n",
       "         [-0.43796077, -0.38344705, -0.3605451 ],\n",
       "         [-0.43796077, -0.38344705, -0.3605451 ],\n",
       "         [-0.43796077, -0.38344705, -0.3605451 ]],\n",
       "\n",
       "        [[ 0.11105882,  0.1851804 ,  0.18847449],\n",
       "         [-0.10462745,  0.02047451, -0.0115255 ],\n",
       "         [-0.37913725, -0.25011373, -0.31348628],\n",
       "         ...,\n",
       "         [-0.43796077, -0.38344705, -0.3605451 ],\n",
       "         [-0.43796077, -0.38344705, -0.3605451 ],\n",
       "         [-0.43796077, -0.38344705, -0.3605451 ]]],\n",
       "\n",
       "\n",
       "       [[[ 0.20517647,  0.20478824,  0.21592548],\n",
       "         [ 0.1894902 ,  0.20086667,  0.21592548],\n",
       "         [ 0.2012549 ,  0.21655294,  0.2394549 ],\n",
       "         ...,\n",
       "         [ 0.10713726,  0.11851373,  0.13357253],\n",
       "         [ 0.17380393,  0.1851804 ,  0.19239606],\n",
       "         [ 0.02870588,  0.02831765,  0.03945489]],\n",
       "\n",
       "        [[ 0.2012549 ,  0.21655294,  0.23161176],\n",
       "         [ 0.23262745,  0.24792549,  0.27082744],\n",
       "         [ 0.19733334,  0.21263137,  0.24337646],\n",
       "         ...,\n",
       "         [ 0.11105882,  0.12243529,  0.1374941 ],\n",
       "         [ 0.10321569,  0.10282745,  0.11396469],\n",
       "         [ 0.11890196,  0.11851373,  0.12965097]],\n",
       "\n",
       "        [[ 0.16988236,  0.20086667,  0.21984705],\n",
       "         [ 0.25615686,  0.2714549 ,  0.3022    ],\n",
       "         [ 0.22086275,  0.22831765,  0.26690587],\n",
       "         ...,\n",
       "         [ 0.09929412,  0.09890588,  0.11788626],\n",
       "         [ 0.10713726,  0.10674902,  0.1257294 ],\n",
       "         [ 0.01301961,  0.00478824,  0.02769019]],\n",
       "\n",
       "        ...,\n",
       "\n",
       "        [[-0.37913725, -0.38344705, -0.37623137],\n",
       "         [-0.2105098 , -0.22266275, -0.2115255 ],\n",
       "         [-0.16737255, -0.17560393, -0.18407452],\n",
       "         ...,\n",
       "         [ 0.2012549 ,  0.16557255,  0.16494508],\n",
       "         [ 0.10713726,  0.0714549 ,  0.0629843 ],\n",
       "         [-0.0105098 , -0.04619215, -0.05466276]],\n",
       "\n",
       "        [[-0.37913725, -0.37952548, -0.35270196],\n",
       "         [-0.33992156, -0.34815294, -0.32525098],\n",
       "         [-0.27717647, -0.28148627, -0.2742706 ],\n",
       "         ...,\n",
       "         [ 0.19733334,  0.14988628,  0.14533724],\n",
       "         [ 0.01694117, -0.02658431, -0.03113334],\n",
       "         [-0.04188235, -0.08148627, -0.09387844]],\n",
       "\n",
       "        [[-0.38698038, -0.37952548, -0.34093726],\n",
       "         [-0.3477647 , -0.3520745 , -0.31348628],\n",
       "         [-0.30462745, -0.31285882, -0.2978    ],\n",
       "         ...,\n",
       "         [ 0.12674509,  0.07929804,  0.07082744],\n",
       "         [ 0.02086274, -0.02658431, -0.03505491],\n",
       "         [ 0.04439216, -0.0030549 , -0.0115255 ]]],\n",
       "\n",
       "\n",
       "       [[[-0.39482352, -0.39521176, -0.3840745 ],\n",
       "         [-0.336     , -0.3010941 , -0.30564314],\n",
       "         [-0.41443136, -0.35599607, -0.38799608],\n",
       "         ...,\n",
       "         [-0.136     , -0.18736863, -0.2742706 ],\n",
       "         [-0.0105098 , -0.0658    , -0.19191766],\n",
       "         [-0.07325491, -0.09717254, -0.21936864]],\n",
       "\n",
       "        [[-0.4105098 , -0.4030549 , -0.36446667],\n",
       "         [-0.3595294 , -0.31285882, -0.38015294],\n",
       "         [-0.36345097, -0.3010941 , -0.36446667],\n",
       "         ...,\n",
       "         [-0.09678432, -0.13246666, -0.2232902 ],\n",
       "         [-0.08894118, -0.13246666, -0.23113334],\n",
       "         [-0.16737255, -0.1912902 , -0.2742706 ]],\n",
       "\n",
       "        [[-0.3124706 , -0.2893294 , -0.31740785],\n",
       "         [-0.35168627, -0.3010941 , -0.3840745 ],\n",
       "         [-0.28109804, -0.22266275, -0.33309412],\n",
       "         ...,\n",
       "         [-0.136     , -0.1638392 , -0.25858432],\n",
       "         [-0.09678432, -0.13638823, -0.20368236],\n",
       "         [-0.19090196, -0.2030549 , -0.25858432]],\n",
       "\n",
       "        ...,\n",
       "\n",
       "        [[-0.03403922, -0.06187843, -0.1487804 ],\n",
       "         [-0.01443137, -0.01874117, -0.1487804 ],\n",
       "         [ 0.01301961, -0.01089804, -0.13309413],\n",
       "         ...,\n",
       "         [-0.36345097, -0.3285451 , -0.33309412],\n",
       "         [-0.38305882, -0.37168235, -0.33309412],\n",
       "         [-0.4222745 , -0.438349  , -0.36446667]],\n",
       "\n",
       "        [[-0.01835294, -0.05011372, -0.15270197],\n",
       "         [-0.00658824, -0.02658431, -0.14093727],\n",
       "         [ 0.01694117, -0.0030549 , -0.14093727],\n",
       "         ...,\n",
       "         [-0.32031372, -0.28148627, -0.3370157 ],\n",
       "         [-0.36345097, -0.33638823, -0.33309412],\n",
       "         [-0.42619607, -0.45403528, -0.35270196]],\n",
       "\n",
       "        [[ 0.00517647, -0.02658431, -0.12917256],\n",
       "         [ 0.0012549 , -0.01874117, -0.13309413],\n",
       "         [ 0.01694117, -0.0030549 , -0.14093727],\n",
       "         ...,\n",
       "         [-0.20658824, -0.18736863, -0.2978    ],\n",
       "         [-0.30070588, -0.28148627, -0.3213294 ],\n",
       "         [-0.42619607, -0.45795685, -0.36838824]]]], dtype=float32)"
      ]
     },
     "execution_count": 70,
     "metadata": {},
     "output_type": "execute_result"
    }
   ],
   "source": [
    "data"
   ]
  },
  {
   "cell_type": "code",
   "execution_count": 90,
   "metadata": {},
   "outputs": [
    {
     "name": "stdout",
     "output_type": "stream",
     "text": [
      "              precision    recall  f1-score   support\n",
      "\n",
      "           0       1.00      1.00      1.00         1\n",
      "           1       1.00      1.00      1.00         1\n",
      "           2       1.00      1.00      1.00         1\n",
      "\n",
      "    accuracy                           1.00         3\n",
      "   macro avg       1.00      1.00      1.00         3\n",
      "weighted avg       1.00      1.00      1.00         3\n",
      "\n"
     ]
    }
   ],
   "source": [
    "from sklearn.metrics import classification_report\n",
    "print(classification_report(target.argmax(axis=1),pred))"
   ]
  },
  {
   "cell_type": "code",
   "execution_count": null,
   "metadata": {},
   "outputs": [],
   "source": []
  }
 ],
 "metadata": {
  "kernelspec": {
   "display_name": "Python 3 (ipykernel)",
   "language": "python",
   "name": "python3"
  },
  "language_info": {
   "codemirror_mode": {
    "name": "ipython",
    "version": 3
   },
   "file_extension": ".py",
   "mimetype": "text/x-python",
   "name": "python",
   "nbconvert_exporter": "python",
   "pygments_lexer": "ipython3",
   "version": "3.9.7"
  }
 },
 "nbformat": 4,
 "nbformat_minor": 4
}
